{
 "cells": [
  {
   "cell_type": "code",
   "execution_count": null,
   "id": "f5c292e5",
   "metadata": {},
   "outputs": [],
   "source": [
    "import pandas as pd\n",
    "import tweepy\n",
    "from textblob import TextBlob"
   ]
  },
  {
   "cell_type": "code",
   "execution_count": null,
   "id": "ed88d890",
   "metadata": {},
   "outputs": [],
   "source": [
    "api_key=\"kff6LbPaycV9pS6OjesR015OC\"\n",
    "api_key_secret=\"pwNAUqBGEKgbNI8LX7MpMMfeibPUgKhe0OygAqo05Z8suNqePr\"\n",
    "access_token=\"1155594183840870402-Wh7EnxhlMbY3XyXxIpdNVQLHzzVXQL\"\n",
    "access_token_secret=\"67ZfDVPkq2TU9x6SteVQhE1lJYaswTVtgBKxXhGmvPQ6A\""
   ]
  },
  {
   "cell_type": "code",
   "execution_count": null,
   "id": "65e5831d",
   "metadata": {},
   "outputs": [],
   "source": [
    "auth=tweepy.OAuthHandler(api_key,api_key_secret)\n",
    "auth.set_access_token(access_token,access_token_secret)\n",
    "api=tweepy.API(auth)"
   ]
  },
  {
   "cell_type": "code",
   "execution_count": null,
   "id": "243aab4b",
   "metadata": {},
   "outputs": [],
   "source": [
    "keyword=\"#INEC\"\n"
   ]
  },
  {
   "cell_type": "code",
   "execution_count": null,
   "id": "4ee5482f",
   "metadata": {},
   "outputs": [],
   "source": [
    "data=[]\n",
    "\n",
    "tweets=tweepy.Cursor(api.search_tweets,q=keyword,lang='en',tweet_mode='extended',count=100).items(1500)\n",
    "for tweet in tweets:\n",
    "    tweet_text=tweet.full_text\n",
    "    analysis=TextBlob(tweet_text) \n",
    "    sentiment= analysis.sentiment.polarity\n",
    "    if sentiment > 0:\n",
    "        sentiment_label=\"positive\"\n",
    "    elif sentiment < 0:\n",
    "        sentiment_label=\"negative\"\n",
    "    else:\n",
    "        sentiment_label=\"neutral\"\n",
    "    newdf=pd.DataFrame({'Tweet': tweet_text, 'Sentiment':sentiment_label},index=[0]) \n",
    "    data.append(newdf)\n",
    "df=pd.concat(data,ignore_index=True\n",
    "            )    \n",
    "print(df.head(10))"
   ]
  },
  {
   "cell_type": "code",
   "execution_count": null,
   "id": "af515910",
   "metadata": {},
   "outputs": [],
   "source": [
    "df.to_csv('election_two.csv',index=False)"
   ]
  },
  {
   "cell_type": "code",
   "execution_count": 21,
   "id": "1b5a36c2",
   "metadata": {},
   "outputs": [
    {
     "data": {
      "text/html": [
       "<div>\n",
       "<style scoped>\n",
       "    .dataframe tbody tr th:only-of-type {\n",
       "        vertical-align: middle;\n",
       "    }\n",
       "\n",
       "    .dataframe tbody tr th {\n",
       "        vertical-align: top;\n",
       "    }\n",
       "\n",
       "    .dataframe thead th {\n",
       "        text-align: right;\n",
       "    }\n",
       "</style>\n",
       "<table border=\"1\" class=\"dataframe\">\n",
       "  <thead>\n",
       "    <tr style=\"text-align: right;\">\n",
       "      <th></th>\n",
       "      <th>Tweet</th>\n",
       "      <th>Sentiment</th>\n",
       "    </tr>\n",
       "  </thead>\n",
       "  <tbody>\n",
       "    <tr>\n",
       "      <th>0</th>\n",
       "      <td>RT @Bod_repuplic: President Elect H.E Peter Ob...</td>\n",
       "      <td>positive</td>\n",
       "    </tr>\n",
       "    <tr>\n",
       "      <th>1</th>\n",
       "      <td>discovered that the power holders from the @Of...</td>\n",
       "      <td>positive</td>\n",
       "    </tr>\n",
       "    <tr>\n",
       "      <th>2</th>\n",
       "      <td>RT @Sirodue1: ‼️⚠️ Last Warning ⚠️ to @inecnig...</td>\n",
       "      <td>negative</td>\n",
       "    </tr>\n",
       "    <tr>\n",
       "      <th>3</th>\n",
       "      <td>#OCCUPYINEC \\n#occupyinec \\n#OCCUPYINEC \\n#OCC...</td>\n",
       "      <td>neutral</td>\n",
       "    </tr>\n",
       "    <tr>\n",
       "      <th>4</th>\n",
       "      <td>RT @strongiess: W.I.T.M out now 🔥🔥🔥 🔊 strongie...</td>\n",
       "      <td>neutral</td>\n",
       "    </tr>\n",
       "  </tbody>\n",
       "</table>\n",
       "</div>"
      ],
      "text/plain": [
       "                                               Tweet Sentiment\n",
       "0  RT @Bod_repuplic: President Elect H.E Peter Ob...  positive\n",
       "1  discovered that the power holders from the @Of...  positive\n",
       "2  RT @Sirodue1: ‼️⚠️ Last Warning ⚠️ to @inecnig...  negative\n",
       "3  #OCCUPYINEC \\n#occupyinec \\n#OCCUPYINEC \\n#OCC...   neutral\n",
       "4  RT @strongiess: W.I.T.M out now 🔥🔥🔥 🔊 strongie...   neutral"
      ]
     },
     "execution_count": 21,
     "metadata": {},
     "output_type": "execute_result"
    }
   ],
   "source": [
    "First=pd.read_csv(\"election.csv\")\n",
    "First.head()"
   ]
  },
  {
   "cell_type": "code",
   "execution_count": 22,
   "id": "e378c3b3",
   "metadata": {},
   "outputs": [
    {
     "data": {
      "text/html": [
       "<div>\n",
       "<style scoped>\n",
       "    .dataframe tbody tr th:only-of-type {\n",
       "        vertical-align: middle;\n",
       "    }\n",
       "\n",
       "    .dataframe tbody tr th {\n",
       "        vertical-align: top;\n",
       "    }\n",
       "\n",
       "    .dataframe thead th {\n",
       "        text-align: right;\n",
       "    }\n",
       "</style>\n",
       "<table border=\"1\" class=\"dataframe\">\n",
       "  <thead>\n",
       "    <tr style=\"text-align: right;\">\n",
       "      <th></th>\n",
       "      <th>Tweet</th>\n",
       "      <th>Sentiment</th>\n",
       "    </tr>\n",
       "  </thead>\n",
       "  <tbody>\n",
       "    <tr>\n",
       "      <th>0</th>\n",
       "      <td>@EdosaRichard @HelenOlotu @DjfreakyDaboss @off...</td>\n",
       "      <td>positive</td>\n",
       "    </tr>\n",
       "    <tr>\n",
       "      <th>1</th>\n",
       "      <td>@PoliceNG it's easy to point guns and killed u...</td>\n",
       "      <td>negative</td>\n",
       "    </tr>\n",
       "    <tr>\n",
       "      <th>2</th>\n",
       "      <td>Inaugurating an illegitimate govt of #INEC sel...</td>\n",
       "      <td>neutral</td>\n",
       "    </tr>\n",
       "    <tr>\n",
       "      <th>3</th>\n",
       "      <td>@EdosaRichard @HelenOlotu @DjfreakyDaboss @off...</td>\n",
       "      <td>positive</td>\n",
       "    </tr>\n",
       "    <tr>\n",
       "      <th>4</th>\n",
       "      <td>@Oluomoofderby @Straw_Chocolait @25tobiloba @z...</td>\n",
       "      <td>negative</td>\n",
       "    </tr>\n",
       "  </tbody>\n",
       "</table>\n",
       "</div>"
      ],
      "text/plain": [
       "                                               Tweet Sentiment\n",
       "0  @EdosaRichard @HelenOlotu @DjfreakyDaboss @off...  positive\n",
       "1  @PoliceNG it's easy to point guns and killed u...  negative\n",
       "2  Inaugurating an illegitimate govt of #INEC sel...   neutral\n",
       "3  @EdosaRichard @HelenOlotu @DjfreakyDaboss @off...  positive\n",
       "4  @Oluomoofderby @Straw_Chocolait @25tobiloba @z...  negative"
      ]
     },
     "execution_count": 22,
     "metadata": {},
     "output_type": "execute_result"
    }
   ],
   "source": [
    "Second=pd.read_csv(\"election_two.csv\")\n",
    "Second.head()"
   ]
  },
  {
   "cell_type": "code",
   "execution_count": 23,
   "id": "7ee39fba",
   "metadata": {},
   "outputs": [],
   "source": [
    "df=pd.concat([First,Second])\n"
   ]
  },
  {
   "cell_type": "markdown",
   "id": "1caed331",
   "metadata": {},
   "source": [
    "### Time to analyze the data that has been scrapped\n",
    "1. Data preprocessing\n",
    "2. Text preprocessing \n",
    "3. visualization and interpretation\n",
    "\n",
    "\n",
    "\n"
   ]
  },
  {
   "cell_type": "code",
   "execution_count": 24,
   "id": "9c456ed9",
   "metadata": {},
   "outputs": [],
   "source": [
    "import re\n",
    "from nltk.corpus import stopwords\n",
    "from nltk.tokenize import word_tokenize"
   ]
  },
  {
   "cell_type": "code",
   "execution_count": null,
   "id": "f66301ec",
   "metadata": {},
   "outputs": [],
   "source": [
    "import nltk\n",
    "nltk.download('stopwords')\n",
    "nltk.download('punkt')"
   ]
  },
  {
   "cell_type": "code",
   "execution_count": 26,
   "id": "61588fa5",
   "metadata": {},
   "outputs": [],
   "source": [
    "clean_df= []\n",
    "stop_words =set(stopwords.words(\"english\"))\n",
    "\n",
    "for tweet in df['Tweet']:\n",
    "    #remove urls and special characters\n",
    "    cleaned= re.sub(r\"http\\S+|[^a-zA-Z0-9\\s]\",\"\",tweet)\n",
    "    #tokenize\n",
    "    words=word_tokenize(cleaned)\n",
    "    #remove stopwords\n",
    "    words=[word for word in words if word.lower() not in stop_words]\n",
    "    cleaned=\" \".join(words)\n",
    "    clean_df.append(cleaned)\n",
    "#create a new column with the cleaned tweet\n",
    "df['cleaned']=clean_df"
   ]
  },
  {
   "cell_type": "code",
   "execution_count": 27,
   "id": "84f8f624",
   "metadata": {},
   "outputs": [
    {
     "data": {
      "text/html": [
       "<div>\n",
       "<style scoped>\n",
       "    .dataframe tbody tr th:only-of-type {\n",
       "        vertical-align: middle;\n",
       "    }\n",
       "\n",
       "    .dataframe tbody tr th {\n",
       "        vertical-align: top;\n",
       "    }\n",
       "\n",
       "    .dataframe thead th {\n",
       "        text-align: right;\n",
       "    }\n",
       "</style>\n",
       "<table border=\"1\" class=\"dataframe\">\n",
       "  <thead>\n",
       "    <tr style=\"text-align: right;\">\n",
       "      <th></th>\n",
       "      <th>Tweet</th>\n",
       "      <th>Sentiment</th>\n",
       "      <th>cleaned</th>\n",
       "    </tr>\n",
       "  </thead>\n",
       "  <tbody>\n",
       "    <tr>\n",
       "      <th>0</th>\n",
       "      <td>RT @Bod_repuplic: President Elect H.E Peter Ob...</td>\n",
       "      <td>positive</td>\n",
       "      <td>RT Bodrepuplic President Elect Peter Obi belie...</td>\n",
       "    </tr>\n",
       "    <tr>\n",
       "      <th>1</th>\n",
       "      <td>discovered that the power holders from the @Of...</td>\n",
       "      <td>positive</td>\n",
       "      <td>discovered power holders OfficialAPCNg Officia...</td>\n",
       "    </tr>\n",
       "    <tr>\n",
       "      <th>2</th>\n",
       "      <td>RT @Sirodue1: ‼️⚠️ Last Warning ⚠️ to @inecnig...</td>\n",
       "      <td>negative</td>\n",
       "      <td>RT Sirodue1 Last Warning inecnigeria MBuhari s...</td>\n",
       "    </tr>\n",
       "    <tr>\n",
       "      <th>3</th>\n",
       "      <td>#OCCUPYINEC \\n#occupyinec \\n#OCCUPYINEC \\n#OCC...</td>\n",
       "      <td>neutral</td>\n",
       "      <td>OCCUPYINEC occupyinec OCCUPYINEC OCCUPYINEC OC...</td>\n",
       "    </tr>\n",
       "    <tr>\n",
       "      <th>4</th>\n",
       "      <td>RT @strongiess: W.I.T.M out now 🔥🔥🔥 🔊 strongie...</td>\n",
       "      <td>neutral</td>\n",
       "      <td>RT strongiess WITM strongies earssss obeycourt...</td>\n",
       "    </tr>\n",
       "  </tbody>\n",
       "</table>\n",
       "</div>"
      ],
      "text/plain": [
       "                                               Tweet Sentiment  \\\n",
       "0  RT @Bod_repuplic: President Elect H.E Peter Ob...  positive   \n",
       "1  discovered that the power holders from the @Of...  positive   \n",
       "2  RT @Sirodue1: ‼️⚠️ Last Warning ⚠️ to @inecnig...  negative   \n",
       "3  #OCCUPYINEC \\n#occupyinec \\n#OCCUPYINEC \\n#OCC...   neutral   \n",
       "4  RT @strongiess: W.I.T.M out now 🔥🔥🔥 🔊 strongie...   neutral   \n",
       "\n",
       "                                             cleaned  \n",
       "0  RT Bodrepuplic President Elect Peter Obi belie...  \n",
       "1  discovered power holders OfficialAPCNg Officia...  \n",
       "2  RT Sirodue1 Last Warning inecnigeria MBuhari s...  \n",
       "3  OCCUPYINEC occupyinec OCCUPYINEC OCCUPYINEC OC...  \n",
       "4  RT strongiess WITM strongies earssss obeycourt...  "
      ]
     },
     "execution_count": 27,
     "metadata": {},
     "output_type": "execute_result"
    }
   ],
   "source": [
    "df.head()"
   ]
  },
  {
   "cell_type": "code",
   "execution_count": 28,
   "id": "4cc39e2c",
   "metadata": {},
   "outputs": [
    {
     "data": {
      "image/png": "[encoded data removed]",
      "text/plain": [
       "<Figure size 432x288 with 1 Axes>"
      ]
     },
     "metadata": {
      "needs_background": "light"
     },
     "output_type": "display_data"
    }
   ],
   "source": [
    "import matplotlib.pyplot as plt\n",
    "\n",
    "sentiment_counts=df['Sentiment'].value_counts()\n",
    "labels=sentiment_counts.index\n",
    "counts=sentiment_counts.values\n",
    "\n",
    "plt.bar(labels, counts)\n",
    "plt.xlabel('Sentiment')\n",
    "plt.ylabel('Count')\n",
    "plt.title(\"Sentiment Result of Twitter Users.\")\n",
    "plt.show()"
   ]
  },
  {
   "cell_type": "code",
   "execution_count": 29,
   "id": "4e1aa5b1",
   "metadata": {},
   "outputs": [],
   "source": [
    "df.to_csv('Tweet.csv',index=False)"
   ]
  },
  {
   "cell_type": "code",
   "execution_count": null,
   "id": "87bcf083",
   "metadata": {},
   "outputs": [],
   "source": []
  }
 ],
 "metadata": {
  "kernelspec": {
   "display_name": "Python 3 (ipykernel)",
   "language": "python",
   "name": "python3"
  },
  "language_info": {
   "codemirror_mode": {
    "name": "ipython",
    "version": 3
   },
   "file_extension": ".py",
   "mimetype": "text/x-python",
   "name": "python",
   "nbconvert_exporter": "python",
   "pygments_lexer": "ipython3",
   "version": "3.9.12"
  }
 },
 "nbformat": 4,
 "nbformat_minor": 5
}
